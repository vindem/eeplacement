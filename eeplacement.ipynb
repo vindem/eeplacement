{
 "cells": [
  {
   "cell_type": "markdown",
   "id": "7a9d6ce6",
   "metadata": {},
   "source": [
    "# SWAIN EE Placement"
   ]
  },
  {
   "cell_type": "markdown",
   "id": "3a81a910",
   "metadata": {},
   "source": [
    "In this notebook, we explain how we generate an energy efficient placement starting from a sensor and a gateway placement."
   ]
  },
  {
   "cell_type": "markdown",
   "id": "264a4776",
   "metadata": {},
   "source": [
    "## Sensor placement"
   ]
  },
  {
   "cell_type": "markdown",
   "id": "0c0b10f9",
   "metadata": {},
   "source": []
  },
  {
   "cell_type": "markdown",
   "id": "edf55689",
   "metadata": {},
   "source": [
    "## Gateway placement"
   ]
  },
  {
   "cell_type": "code",
   "execution_count": null,
   "id": "e85396f0",
   "metadata": {},
   "outputs": [],
   "source": []
  },
  {
   "cell_type": "markdown",
   "id": "535fe24c",
   "metadata": {},
   "source": [
    "## Energy Efficiency"
   ]
  }
 ],
 "metadata": {
  "kernelspec": {
   "display_name": "Python 3",
   "language": "python",
   "name": "python3"
  },
  "language_info": {
   "codemirror_mode": {
    "name": "ipython",
    "version": 3
   },
   "file_extension": ".py",
   "mimetype": "text/x-python",
   "name": "python",
   "nbconvert_exporter": "python",
   "pygments_lexer": "ipython3",
   "version": "3.8.10"
  }
 },
 "nbformat": 4,
 "nbformat_minor": 5
}
